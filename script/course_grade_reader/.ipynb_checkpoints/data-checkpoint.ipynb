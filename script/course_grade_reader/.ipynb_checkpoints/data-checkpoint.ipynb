{
 "cells": [
  {
   "cell_type": "code",
   "execution_count": 1,
   "id": "48afa410-302f-4388-bf63-c32c06269cf3",
   "metadata": {},
   "outputs": [],
   "source": [
    "import tabula\n",
    "import pandas as pd"
   ]
  },
  {
   "cell_type": "code",
   "execution_count": 3,
   "id": "c858870a-7911-4809-b97d-b45cdc43e53d",
   "metadata": {},
   "outputs": [],
   "source": [
    "def read_name(path,i):\n",
    "    names = tabula.read_pdf(path, pages=i,area=[17.5,11.7,19.5,19.5], relative_area=True, \n",
    "                      pandas_options={'names': [\"department\"]})\n",
    "    if len(names) == 0:\n",
    "        raise KeyError\n",
    "    return names[0]['department'].loc[0]"
   ]
  },
  {
   "cell_type": "code",
   "execution_count": 2,
   "id": "d4d1a8e4-3b49-401c-bd73-3db5453b70e2",
   "metadata": {},
   "outputs": [],
   "source": [
    "def parse_data(in_path, out_path):\n",
    "    dfs = tabula.read_pdf(in_path, pages='all',\n",
    "                          columns=[46, 50, 56, 64, 70, 75, 81, 87, 93, 98, 105, 110],\n",
    "                          relative_columns=True,area=[19.5,10,85,65], relative_area=True, \n",
    "                          pandas_options={'names': [\"name\", \"course_num\", \"sec_num\", \"num_of_students\",\"avg_gpa\", \"A\", \"AB\", \"B\", \"BC\", \"C\", \"D\", \"F\", \"S\"]})\n",
    "    result = pd.DataFrame(columns=[\"department\", \"name\", \"course_num\", \"sec_num\", \"num_of_students\",\"avg_gpa\", \"A\", \"AB\", \"B\", \"BC\", \"C\", \"D\", \"F\", \"S\"])\n",
    "    for i in range(len(dfs)):\n",
    "        try:\n",
    "            name = read_name(in_path, i + 1)\n",
    "            dfs[i].insert(0, \"department\", [name for j in range(len(dfs[i].index))], True)\n",
    "            result = pd.concat([result, dfs[i].loc[pd.to_numeric(dfs[i]['avg_gpa'], errors='coerce').notnull()].loc[pd.to_numeric(dfs[i]['course_num'], errors='coerce') < 700]])\n",
    "        except KeyError as e:\n",
    "            print(\"skip page %i\"%(i + 1))\n",
    "            continue\n",
    "    sorted_result = result.drop(\"name\", axis=1).sort_values(by = [\"department\", \"course_num\", \"sec_num\"])\n",
    "    sorted_result.to_csv(out_path)\n",
    "    return sorted_result;"
   ]
  },
  {
   "cell_type": "code",
   "execution_count": 8,
   "id": "26de6ac5-96f6-4c4d-9b87-0e53ddff3990",
   "metadata": {},
   "outputs": [],
   "source": []
  },
  {
   "cell_type": "code",
   "execution_count": null,
   "id": "a5762baf-9ca0-4eaf-9483-c4f72eeea40c",
   "metadata": {},
   "outputs": [],
   "source": []
  }
 ],
 "metadata": {
  "kernelspec": {
   "display_name": "Python 3 (ipykernel)",
   "language": "python",
   "name": "python3"
  },
  "language_info": {
   "codemirror_mode": {
    "name": "ipython",
    "version": 3
   },
   "file_extension": ".py",
   "mimetype": "text/x-python",
   "name": "python",
   "nbconvert_exporter": "python",
   "pygments_lexer": "ipython3",
   "version": "3.12.2"
  }
 },
 "nbformat": 4,
 "nbformat_minor": 5
}
